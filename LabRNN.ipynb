{
    "cells": [
        {
            "cell_type": "markdown",
            "metadata": {
                "id": "AhDUFBxt9xZg"
            },
            "source": [
                "# Implement and train a LSTM for sentiment analysis\n",
                "\n",
                "(General Hint on Lab 1/2: Trust whatever you see from the training and report it on PDF. IDMB is far from ideal as it's more like a real-world dataset)"
            ]
        },
        {
            "cell_type": "markdown",
            "metadata": {
                "id": "gW6ymxu99xZk"
            },
            "source": [
                "## Step 0: set up the environment"
            ]
        },
        {
            "cell_type": "code",
            "execution_count": null,
            "metadata": {
                "colab": {
                    "base_uri": "https://localhost:8080/"
                },
                "executionInfo": {
                    "elapsed": 129,
                    "status": "ok",
                    "timestamp": 1632424039407,
                    "user": {
                        "displayName": "于安安",
                        "photoUrl": "https://lh3.googleusercontent.com/a/default-user=s64",
                        "userId": "13100696601280815207"
                    },
                    "user_tz": 240
                },
                "id": "Spc_UH4B9xZl",
                "outputId": "3989aa4b-d3ab-41a6-d2c9-8e046773b9f2"
            },
            "outputs": [],
            "source": [
                "import functools\n",
                "import sys\n",
                "import numpy as np\n",
                "import pandas as pd\n",
                "import random\n",
                "import re\n",
                "import matplotlib.pyplot as plt\n",
                "import tqdm\n",
                "import nltk\n",
                "from sklearn.model_selection import train_test_split\n",
                "from nltk.corpus import stopwords\n",
                "from collections import Counter\n",
                "import torch\n",
                "import torch.nn as nn\n",
                "import torch.optim as optim\n",
                "from torch.utils.data import Dataset\n",
                "\n",
                "nltk.download('stopwords')\n",
                "\n",
                "torch.backends.cudnn.benchmark = True\n",
                "\n",
                "import os\n",
                "os.makedirs(\"resources\", exist_ok=True)"
            ]
        },
        {
            "cell_type": "markdown",
            "metadata": {},
            "source": [
                "### Hyperparameters. Do not directly touch this to mess up settings.\n",
                "\n",
                "If you want to initalize new hyperparameter sets, use \"new_hparams = HyperParams()\" and change corresponding fields."
            ]
        },
        {
            "cell_type": "code",
            "execution_count": null,
            "metadata": {
                "executionInfo": {
                    "elapsed": 4,
                    "status": "ok",
                    "timestamp": 1632424039548,
                    "user": {
                        "displayName": "于安安",
                        "photoUrl": "https://lh3.googleusercontent.com/a/default-user=s64",
                        "userId": "13100696601280815207"
                    },
                    "user_tz": 240
                },
                "id": "OxnFjs3f9xZn"
            },
            "outputs": [],
            "source": [
                "class HyperParams:\n",
                "    def __init__(self):\n",
                "        # Constance hyperparameters. They have been tested and don't need to be tuned.\n",
                "        self.PAD_INDEX = 0\n",
                "        self.UNK_INDEX = 1\n",
                "        self.PAD_TOKEN = '<pad>'\n",
                "        self.UNK_TOKEN = '<unk>'\n",
                "        self.STOP_WORDS = set(stopwords.words('english'))\n",
                "        self.MAX_LENGTH = 256\n",
                "        self.BATCH_SIZE = 96\n",
                "        self.EMBEDDING_DIM = 1\n",
                "        self.HIDDEN_DIM = 100\n",
                "        self.OUTPUT_DIM = 2\n",
                "        self.N_LAYERS = 1\n",
                "        self.DROPOUT_RATE = 0.0\n",
                "        self.LR = 0.01\n",
                "        self.N_EPOCHS = 5\n",
                "        self.WD = 0\n",
                "        self.OPTIM = \"sgd\"\n",
                "        self.BIDIRECTIONAL = False\n",
                "        self.SEED = 5"
            ]
        },
        {
            "cell_type": "markdown",
            "metadata": {
                "id": "XODz_aDV9xZo"
            },
            "source": [
                "## Lab 1(a) Implement your own data loader function.  \n",
                "First, you need to read the data from the dataset file on the local disk. \n",
                "Then, split the dataset into three sets: train, validation and test by 7:1:2 ratio.\n",
                "Finally return x_train, x_valid, x_test, y_train, y_valid, y_test where x represents reviews and y represent labels.  "
            ]
        },
        {
            "cell_type": "code",
            "execution_count": null,
            "metadata": {
                "executionInfo": {
                    "elapsed": 4,
                    "status": "ok",
                    "timestamp": 1632424039548,
                    "user": {
                        "displayName": "于安安",
                        "photoUrl": "https://lh3.googleusercontent.com/a/default-user=s64",
                        "userId": "13100696601280815207"
                    },
                    "user_tz": 240
                },
                "id": "AD7HSvM19xZp"
            },
            "outputs": [],
            "source": [
                "def load_imdb(base_csv:str = './IMDBDataset.csv'):\n",
                "    \"\"\"\n",
                "    Load the IMDB dataset\n",
                "    :param base_csv: the path of the dataset file.\n",
                "    :return: train, validation and test set.\n",
                "    \"\"\"\n",
                "    # Add your code here. \n",
                "\n",
                "    \n",
                "    \n",
                "    print(f'shape of train data is {x_train.shape}')\n",
                "    print(f'shape of test data is {x_test.shape}')\n",
                "    print(f'shape of valid data is {x_valid.shape}')\n",
                "    return x_train, x_valid, x_test, y_train, y_valid, y_test"
            ]
        },
        {
            "cell_type": "markdown",
            "metadata": {
                "id": "KYVH6t--9xZq"
            },
            "source": [
                "## Lab 1(b): Implement your function to build a vocabulary based on the training corpus.\n",
                "You should first compute the frequency of all the words in the training corpus.\n",
                "Use the given preprocess_string() function to process each word by \"preprocess_string(word)\".\n",
                "Avoid the words that are in the STOP_WORDS. \n",
                "Filter the words by their frequency (>=min_freq).\n",
                "Generate a corpus variable which contains a list of words.  "
            ]
        },
        {
            "cell_type": "code",
            "execution_count": null,
            "metadata": {
                "executionInfo": {
                    "elapsed": 141,
                    "status": "ok",
                    "timestamp": 1632424039686,
                    "user": {
                        "displayName": "于安安",
                        "photoUrl": "https://lh3.googleusercontent.com/a/default-user=s64",
                        "userId": "13100696601280815207"
                    },
                    "user_tz": 240
                },
                "id": "sugI5VoJ9xZr"
            },
            "outputs": [],
            "source": [
                "def build_vocab(x_train:list, min_freq: int=5, hparams=None) -> dict:\n",
                "    \"\"\"\n",
                "    build a vocabulary based on the training corpus.\n",
                "    :param x_train:  List. The training corpus. Each sample in the list is a string of text.\n",
                "    :param min_freq: Int. The frequency threshold for selecting words.\n",
                "    :return: dictionary {word:index}\n",
                "    \"\"\"\n",
                "    # Add your code here. Your code should assign corpus with a list of words.\n",
                "\n",
                "\n",
                "    corpus = [] # placeholder\n",
                "    # sorting on the basis of most common words\n",
                "    # corpus_ = sorted(corpus, key=corpus.get, reverse=True)[:1000]\n",
                "    corpus_ = [word for word, freq in corpus.items() if freq >= min_freq]\n",
                "    # creating a dict\n",
                "    vocab = {w:i+2 for i, w in enumerate(corpus_)}\n",
                "    vocab[hparams.PAD_TOKEN] = hparams.PAD_INDEX\n",
                "    vocab[hparams.UNK_TOKEN] = hparams.UNK_INDEX\n",
                "    return vocab\n"
            ]
        },
        {
            "cell_type": "markdown",
            "metadata": {
                "id": "Ca71G17F9xZt"
            },
            "source": [
                "## Lab 1(c): Implement your tokenize function. \n",
                "You should leverage the given preprocess_string() function to process each word by \"preprocess_string(word)\".\n",
                "For each word, find its index in the vocabulary. \n",
                "Return a list of int that represents the indices of words in the example. "
            ]
        },
        {
            "cell_type": "code",
            "execution_count": null,
            "metadata": {
                "executionInfo": {
                    "elapsed": 5,
                    "status": "ok",
                    "timestamp": 1632424039686,
                    "user": {
                        "displayName": "于安安",
                        "photoUrl": "https://lh3.googleusercontent.com/a/default-user=s64",
                        "userId": "13100696601280815207"
                    },
                    "user_tz": 240
                },
                "id": "c6kj_qT69xZt"
            },
            "outputs": [],
            "source": [
                "def tokenize(vocab: dict, example: str)-> list:\n",
                "    \"\"\"\n",
                "    Tokenize the give example string into a list of token indices.\n",
                "    :param vocab: dict, the vocabulary.\n",
                "    :param example: a string of text.\n",
                "    :return: a list of token indices.\n",
                "    \"\"\"\n",
                "    # Your code here.\n",
                "    return "
            ]
        },
        {
            "cell_type": "markdown",
            "metadata": {
                "id": "e9ntSo4k9xZu"
            },
            "source": [
                "## Lab 1 (d): Implement the __getitem__ function. Given an index i, you should return the i-th review and label. \n",
                "The review is originally a string. Please tokenize it into a sequence of token indices. \n",
                "Use the max_length parameter to truncate the sequence so that it contains at most max_length tokens. \n",
                "Convert the label string ('positive'/'negative') to a binary index. 'positive' is 1 and 'negative' is 0. \n",
                "Return a dictionary containing three keys: 'ids', 'length', 'label' which represent the list of token ids, the length of the sequence, the binary label. "
            ]
        },
        {
            "cell_type": "code",
            "execution_count": null,
            "metadata": {
                "executionInfo": {
                    "elapsed": 5,
                    "status": "ok",
                    "timestamp": 1632424039687,
                    "user": {
                        "displayName": "于安安",
                        "photoUrl": "https://lh3.googleusercontent.com/a/default-user=s64",
                        "userId": "13100696601280815207"
                    },
                    "user_tz": 240
                },
                "id": "2TDgA4p79xZu"
            },
            "outputs": [],
            "source": [
                "class IMDB(Dataset):\n",
                "    def __init__(self, x, y, vocab, max_length=256) -> None:\n",
                "        \"\"\"\n",
                "        :param x: list of reviews\n",
                "        :param y: list of labels\n",
                "        :param vocab: vocabulary dictionary {word:index}.\n",
                "        :param max_length: the maximum sequence length.\n",
                "        \"\"\"\n",
                "        self.x = x\n",
                "        self.y = y\n",
                "        self.vocab = vocab\n",
                "        self.max_length = max_length\n",
                "\n",
                "    def __getitem__(self, idx: int):\n",
                "        \"\"\"\n",
                "        Return the tokenized review and label by the given index.\n",
                "        :param idx: index of the sample.\n",
                "        :return: a dictionary containing three keys: 'ids', 'length', 'label' which represent the list of token ids, the length of the sequence, the binary label.\n",
                "        \"\"\"\n",
                "        # Add your code here.\n",
                "        \n",
                "        pass\n",
                "    \n",
                "\n",
                "    def __len__(self) -> int:\n",
                "        return len(self.x)\n",
                "\n",
                "def collate(batch, pad_index):\n",
                "    batch_ids = [torch.LongTensor(i['ids']) for i in batch]\n",
                "    batch_ids = nn.utils.rnn.pad_sequence(batch_ids, padding_value=pad_index, batch_first=True)\n",
                "    batch_length = torch.Tensor([i['length'] for i in batch])\n",
                "    batch_label = torch.LongTensor([i['label'] for i in batch])\n",
                "    batch = {'ids': batch_ids, 'length': batch_length, 'label': batch_label}\n",
                "    return batch\n",
                "\n",
                "collate_fn = collate"
            ]
        },
        {
            "cell_type": "markdown",
            "metadata": {
                "id": "1zgSPYmf9xZv"
            },
            "source": [
                "## Lab 1 (e): Implement the LSTM model for sentiment analysis.\n",
                "Q(a): Implement the initialization function.\n",
                "Your task is to create the model by stacking several necessary layers including an embedding layer, a lstm cell, a linear layer, and a dropout layer.\n",
                "You can call functions from Pytorch's nn library. For example, nn.Embedding, nn.LSTM, nn.Linear.<br>\n",
                "Q(b): Implement the forward function.\n",
                "    Decide where to apply dropout. \n",
                "    The sequences in the batch have different lengths. Write/call a function to pad the sequences into the same length. \n",
                "    Apply a fully-connected (fc) layer to the output of the LSTM layer. \n",
                "    Return the output features which is of size [batch size, output dim]. "
            ]
        },
        {
            "cell_type": "code",
            "execution_count": null,
            "metadata": {
                "executionInfo": {
                    "elapsed": 5,
                    "status": "ok",
                    "timestamp": 1632424039687,
                    "user": {
                        "displayName": "于安安",
                        "photoUrl": "https://lh3.googleusercontent.com/a/default-user=s64",
                        "userId": "13100696601280815207"
                    },
                    "user_tz": 240
                },
                "id": "b9ofQ5R29xZv"
            },
            "outputs": [],
            "source": [
                "def init_weights(m):\n",
                "    if isinstance(m, nn.Embedding):\n",
                "        nn.init.xavier_normal_(m.weight)\n",
                "    elif isinstance(m, nn.Linear):\n",
                "        nn.init.xavier_normal_(m.weight)\n",
                "        nn.init.zeros_(m.bias)\n",
                "    elif isinstance(m, nn.LSTM) or isinstance(m, nn.GRU):\n",
                "        for name, param in m.named_parameters():\n",
                "            if 'bias' in name:\n",
                "                nn.init.zeros_(param)\n",
                "            elif 'weight' in name:\n",
                "                nn.init.orthogonal_(param)\n",
                "                \n",
                "class LSTM(nn.Module):\n",
                "    def __init__(\n",
                "        self, \n",
                "        vocab_size: int, \n",
                "        embedding_dim: int, \n",
                "        hidden_dim: int, \n",
                "        output_dim: int, \n",
                "        n_layers: int, \n",
                "        dropout_rate: float, \n",
                "        pad_index: int,\n",
                "        bidirectional: bool,\n",
                "        **kwargs):\n",
                "        \"\"\"\n",
                "        Create a LSTM model for classification.\n",
                "        :param vocab_size: size of the vocabulary\n",
                "        :param embedding_dim: dimension of embeddings\n",
                "        :param hidden_dim: dimension of hidden features\n",
                "        :param output_dim: dimension of the output layer which equals to the number of labels.\n",
                "        :param n_layers: number of layers.\n",
                "        :param dropout_rate: dropout rate.\n",
                "        :param pad_index: index of the padding token.we\n",
                "        \"\"\"\n",
                "        super().__init__()\n",
                "        # Add your code here. Initializing each layer by the given arguments.\n",
                "        \n",
                "        # Weight initialization. DO NOT CHANGE!\n",
                "        if \"weight_init_fn\" not in kwargs:\n",
                "            self.apply(init_weights)\n",
                "        else:\n",
                "            self.apply(kwargs[\"weight_init_fn\"])\n",
                "\n",
                "\n",
                "    def forward(self, ids:torch.Tensor, length:torch.Tensor):\n",
                "        \"\"\"\n",
                "        Feed the given token ids to the model.\n",
                "        :param ids: [batch size, seq len] batch of token ids.\n",
                "        :param length: [batch size] batch of length of the token ids.\n",
                "        :return: prediction of size [batch size, output dim].\n",
                "        \"\"\"\n",
                "        # Add your code here.\n",
                "        prediction = \n",
                "        \n",
                "        return prediction"
            ]
        },
        {
            "cell_type": "code",
            "execution_count": null,
            "metadata": {
                "executionInfo": {
                    "elapsed": 121,
                    "status": "ok",
                    "timestamp": 1632424039803,
                    "user": {
                        "displayName": "于安安",
                        "photoUrl": "https://lh3.googleusercontent.com/a/default-user=s64",
                        "userId": "13100696601280815207"
                    },
                    "user_tz": 240
                },
                "id": "13Sdl7MV9xZv"
            },
            "outputs": [],
            "source": [
                "def count_parameters(model):\n",
                "    return sum(p.numel() for p in model.parameters() if p.requires_grad)\n",
                "\n",
                "\n",
                "def train(dataloader, model, criterion, optimizer, scheduler, device):\n",
                "    model.train()\n",
                "    epoch_losses = []\n",
                "    epoch_accs = []\n",
                "\n",
                "    for batch in tqdm.tqdm(dataloader, desc='training...', file=sys.stdout):\n",
                "        ids = batch['ids'].to(device)\n",
                "        length = batch['length']\n",
                "        label = batch['label'].to(device)\n",
                "        prediction = model(ids, length)\n",
                "        loss = criterion(prediction, label)\n",
                "        accuracy = get_accuracy(prediction, label)\n",
                "        optimizer.zero_grad()\n",
                "        loss.backward()\n",
                "        optimizer.step()\n",
                "        epoch_losses.append(loss.item())\n",
                "        epoch_accs.append(accuracy.item())\n",
                "        scheduler.step()\n",
                "\n",
                "    return epoch_losses, epoch_accs\n",
                "\n",
                "def evaluate(dataloader, model, criterion, device):\n",
                "    model.eval()\n",
                "    epoch_losses = []\n",
                "    epoch_accs = []\n",
                "\n",
                "    with torch.no_grad():\n",
                "        for batch in tqdm.tqdm(dataloader, desc='evaluating...', file=sys.stdout):\n",
                "            ids = batch['ids'].to(device)\n",
                "            length = batch['length']\n",
                "            label = batch['label'].to(device)\n",
                "            prediction = model(ids, length)\n",
                "            loss = criterion(prediction, label)\n",
                "            accuracy = get_accuracy(prediction, label)\n",
                "            epoch_losses.append(loss.item())\n",
                "            epoch_accs.append(accuracy.item())\n",
                "\n",
                "    return epoch_losses, epoch_accs\n",
                "\n",
                "def get_accuracy(prediction, label):\n",
                "    batch_size, _ = prediction.shape\n",
                "    predicted_classes = prediction.argmax(dim=-1)\n",
                "    correct_predictions = predicted_classes.eq(label).sum()\n",
                "    accuracy = correct_predictions / batch_size\n",
                "    return accuracy\n",
                "\n",
                "def predict_sentiment(text, model, vocab, device):\n",
                "    tokens = tokenize(vocab, text)\n",
                "    ids = [vocab[t] if t in vocab else UNK_INDEX for t in tokens]\n",
                "    length = torch.LongTensor([len(ids)])\n",
                "    tensor = torch.LongTensor(ids).unsqueeze(dim=0).to(device)\n",
                "    prediction = model(tensor, length).squeeze(dim=0)\n",
                "    probability = torch.softmax(prediction, dim=-1)\n",
                "    predicted_class = prediction.argmax(dim=-1).item()\n",
                "    predicted_probability = probability[predicted_class].item()\n",
                "    return predicted_class, predicted_probability"
            ]
        },
        {
            "cell_type": "markdown",
            "metadata": {},
            "source": [
                "### Lab 1 (g) Implement GRU."
            ]
        },
        {
            "cell_type": "code",
            "execution_count": null,
            "metadata": {},
            "outputs": [],
            "source": [
                "class GRU(nn.Module):\n",
                "    def __init__(\n",
                "        self, \n",
                "        vocab_size: int, \n",
                "        embedding_dim: int, \n",
                "        hidden_dim: int, \n",
                "        output_dim: int, \n",
                "        n_layers: int, \n",
                "        dropout_rate: float, \n",
                "        pad_index: int,\n",
                "        bidirectional: bool,\n",
                "        **kwargs):\n",
                "        \"\"\"\n",
                "        Create a LSTM model for classification.\n",
                "        :param vocab_size: size of the vocabulary\n",
                "        :param embedding_dim: dimension of embeddings\n",
                "        :param hidden_dim: dimension of hidden features\n",
                "        :param output_dim: dimension of the output layer which equals to the number of labels.\n",
                "        :param n_layers: number of layers.\n",
                "        :param dropout_rate: dropout rate.\n",
                "        :param pad_index: index of the padding token.we\n",
                "        \"\"\"\n",
                "        super().__init__()\n",
                "        # Add your code here. Initializing each layer by the given arguments.\n",
                "\n",
                "        # Weight Initialization. DO NOT CHANGE!\n",
                "        if \"weight_init_fn\" not in kwargs:\n",
                "            self.apply(init_weights)\n",
                "        else:\n",
                "            self.apply(kwargs[\"weight_init_fn\"])\n",
                "\n",
                "\n",
                "    def forward(self, ids:torch.Tensor, length:torch.Tensor):\n",
                "        \"\"\"\n",
                "        Feed the given token ids to the model.\n",
                "        :param ids: [batch size, seq len] batch of token ids.\n",
                "        :param length: [batch size] batch of length of the token ids.\n",
                "        :return: prediction of size [batch size, output dim].\n",
                "        \"\"\"\n",
                "        # Add your code here.\n",
                "        prediction = \n",
                "        \n",
                "        return prediction"
            ]
        },
        {
            "cell_type": "markdown",
            "metadata": {},
            "source": [
                "### Learning rate warmup. DO NOT TOUCH!"
            ]
        },
        {
            "cell_type": "code",
            "execution_count": null,
            "metadata": {},
            "outputs": [],
            "source": [
                "class ConstantWithWarmup(torch.optim.lr_scheduler._LRScheduler):\n",
                "    def __init__(\n",
                "        self,\n",
                "        optimizer,\n",
                "        num_warmup_steps: int,\n",
                "    ):\n",
                "        self.num_warmup_steps = num_warmup_steps\n",
                "        super().__init__(optimizer)\n",
                "\n",
                "    def get_lr(self):\n",
                "        if self._step_count <= self.num_warmup_steps:\n",
                "            # warmup\n",
                "            scale = 1.0 - (self.num_warmup_steps - self._step_count) / self.num_warmup_steps\n",
                "            lr = [base_lr * scale for base_lr in self.base_lrs]\n",
                "            self.last_lr = lr\n",
                "        else:\n",
                "            lr = self.base_lrs\n",
                "        return lr"
            ]
        },
        {
            "cell_type": "markdown",
            "metadata": {},
            "source": [
                "### Implement the training / validation iteration here."
            ]
        },
        {
            "cell_type": "code",
            "execution_count": null,
            "metadata": {
                "colab": {
                    "base_uri": "https://localhost:8080/",
                    "height": 579
                },
                "executionInfo": {
                    "elapsed": 442161,
                    "status": "error",
                    "timestamp": 1632424481962,
                    "user": {
                        "displayName": "于安安",
                        "photoUrl": "https://lh3.googleusercontent.com/a/default-user=s64",
                        "userId": "13100696601280815207"
                    },
                    "user_tz": 240
                },
                "id": "qXLkQSnS9xZw",
                "outputId": "3fc551e1-dabf-446d-f2cb-90e70f38d1e4"
            },
            "outputs": [],
            "source": [
                "def train_and_test_model_with_hparams(hparams, model_type=\"lstm\", **kwargs):\n",
                "    # Seeding. DO NOT TOUCH! DO NOT TOUCH hparams.SEED!\n",
                "    # Set the random seeds.\n",
                "    torch.manual_seed(hparams.SEED)\n",
                "    random.seed(hparams.SEED)\n",
                "    np.random.seed(hparams.SEED)\n",
                "\n",
                "    x_train, x_valid, x_test, y_train, y_valid, y_test = load_imdb()\n",
                "    vocab = build_vocab(x_train, hparams=hparams)\n",
                "    vocab_size = len(vocab)\n",
                "    print(f'Length of vocabulary is {vocab_size}')\n",
                "\n",
                "    train_data = IMDB(x_train, y_train, vocab, hparams.MAX_LENGTH)\n",
                "    valid_data = IMDB(x_valid, y_valid, vocab, hparams.MAX_LENGTH)\n",
                "    test_data = IMDB(x_test, y_test, vocab, hparams.MAX_LENGTH)\n",
                "\n",
                "    collate = functools.partial(collate_fn, pad_index=hparams.PAD_INDEX)\n",
                "\n",
                "    train_dataloader = torch.utils.data.DataLoader(\n",
                "        train_data, batch_size=hparams.BATCH_SIZE, collate_fn=collate, shuffle=True)\n",
                "    valid_dataloader = torch.utils.data.DataLoader(\n",
                "        valid_data, batch_size=hparams.BATCH_SIZE, collate_fn=collate)\n",
                "    test_dataloader = torch.utils.data.DataLoader(\n",
                "        test_data, batch_size=hparams.BATCH_SIZE, collate_fn=collate)\n",
                "    \n",
                "    # Model\n",
                "    if \"override_models_with_gru\" in kwargs and kwargs[\"override_models_with_gru\"]:\n",
                "        model = GRU(\n",
                "            vocab_size, \n",
                "            hparams.EMBEDDING_DIM, \n",
                "            hparams.HIDDEN_DIM, \n",
                "            hparams.OUTPUT_DIM,\n",
                "            hparams.N_LAYERS,\n",
                "            hparams.DROPOUT_RATE, \n",
                "            hparams.PAD_INDEX,\n",
                "            hparams.BIDIRECTIONAL,\n",
                "            **kwargs)\n",
                "    else:\n",
                "        model = LSTM(\n",
                "            vocab_size, \n",
                "            hparams.EMBEDDING_DIM, \n",
                "            hparams.HIDDEN_DIM, \n",
                "            hparams.OUTPUT_DIM,\n",
                "            hparams.N_LAYERS,\n",
                "            hparams.DROPOUT_RATE, \n",
                "            hparams.PAD_INDEX,\n",
                "            hparams.BIDIRECTIONAL,\n",
                "            **kwargs)\n",
                "    num_params = count_parameters(model)\n",
                "    print(f'The model has {num_params:,} trainable parameters')\n",
                "\n",
                "\n",
                "    device = torch.device('cuda' if torch.cuda.is_available() else 'cpu')\n",
                "    model = model.to(device)\n",
                "\n",
                "    # Optimization. Lab 2 (a)(b) should choose one of them.\n",
                "    # DO NOT TOUCH optimizer-specific hyperparameters! (e.g., eps, momentum)\n",
                "    # DO NOT change optimizer implementations!\n",
                "    if hparams.OPTIM == \"sgd\":\n",
                "        optimizer = optim.SGD(\n",
                "            model.parameters(), lr=hparams.LR, weight_decay=hparams.WD, momentum=.9)        \n",
                "    elif hparams.OPTIM == \"adagrad\":\n",
                "        optimizer = optim.Adagrad(\n",
                "            model.parameters(), lr=hparams.LR, weight_decay=hparams.WD, eps=1e-6)\n",
                "    elif hparams.OPTIM == \"adam\":\n",
                "        optimizer = optim.Adam(\n",
                "            model.parameters(), lr=hparams.LR, weight_decay=hparams.WD, eps=1e-6)\n",
                "    elif hparams.OPTIM == \"rmsprop\":\n",
                "        optimizer = optim.RMSprop(\n",
                "            model.parameters(), lr=hparams.LR, weight_decay=hparams.WD, eps=1e-6, momentum=.9)\n",
                "    else:\n",
                "        raise NotImplementedError(\"Optimizer not implemented!\")\n",
                "\n",
                "    criterion = nn.CrossEntropyLoss()\n",
                "    criterion = criterion.to(device)\n",
                "\n",
                "    # Start training\n",
                "    best_valid_loss = float('inf')\n",
                "    train_losses = []\n",
                "    train_accs = []\n",
                "    valid_losses = []\n",
                "    valid_accs = []\n",
                "    \n",
                "    # Warmup Scheduler. DO NOT TOUCH!\n",
                "    WARMUP_STEPS = 200\n",
                "    lr_scheduler = ConstantWithWarmup(optimizer, WARMUP_STEPS)\n",
                "\n",
                "    for epoch in range(hparams.N_EPOCHS):\n",
                "        \n",
                "        # Your code: implement the training process and save the best model.\n",
                "        \n",
                "        train_loss, train_acc, valid_loss, valid_acc = \n",
                "        \n",
                "        \n",
                "        epoch_train_loss = np.mean(train_loss)\n",
                "        epoch_train_acc = np.mean(train_acc)\n",
                "        epoch_valid_loss = np.mean(valid_loss)\n",
                "        epoch_valid_acc = np.mean(valid_acc)\n",
                "\n",
                "        # Save the model that achieves the smallest validation loss.\n",
                "        if epoch_valid_loss < best_valid_loss:\n",
                "            # Your code: save the best model somewhere (no need to submit it to Sakai)\n",
                "            pass\n",
                "\n",
                "        print(f'epoch: {epoch+1}')\n",
                "        print(f'train_loss: {epoch_train_loss:.3f}, train_acc: {epoch_train_acc:.3f}')\n",
                "        print(f'valid_loss: {epoch_valid_loss:.3f}, valid_acc: {epoch_valid_acc:.3f}')\n",
                "\n",
                "\n",
                "    # Your Code: Load the best model's weights.\n",
                "    model = \n",
                "\n",
                "    # Your Code: evaluate test loss on testing dataset (NOT Validation)\n",
                "    test_loss, test_acc = \n",
                "\n",
                "    epoch_test_loss = np.mean(test_loss)\n",
                "    epoch_test_acc = np.mean(test_acc)\n",
                "    print(f'test_loss: {epoch_test_loss:.3f}, test_acc: {epoch_test_acc:.3f}')\n",
                "    \n",
                "    # Free memory for later usage.\n",
                "    del model\n",
                "    torch.cuda.empty_cache()\n",
                "    return {\n",
                "        'num_params': num_params,\n",
                "        \"test_loss\": epoch_test_loss,\n",
                "        \"test_acc\": epoch_test_acc,\n",
                "    }"
            ]
        },
        {
            "cell_type": "markdown",
            "metadata": {
                "executionInfo": {
                    "elapsed": 143,
                    "status": "aborted",
                    "timestamp": 1632424481960,
                    "user": {
                        "displayName": "于安安",
                        "photoUrl": "https://lh3.googleusercontent.com/a/default-user=s64",
                        "userId": "13100696601280815207"
                    },
                    "user_tz": 240
                },
                "id": "VKCu4rPBA2Sp"
            },
            "source": [
                "### Lab 1 (f): Train model with original hyperparameters, for LSTM.\n",
                "\n",
                "Train the model with default hyperparameter settings."
            ]
        },
        {
            "cell_type": "code",
            "execution_count": null,
            "metadata": {},
            "outputs": [],
            "source": [
                "org_hyperparams = HyperParams()\n",
                "_ = train_and_test_model_with_hparams(org_hyperparams, \"lstm_1layer_base_sgd_e32_h100\")"
            ]
        },
        {
            "cell_type": "markdown",
            "metadata": {},
            "source": [
                "### Lag 1 (h) Train GRU with vanilla hyperparameters."
            ]
        },
        {
            "cell_type": "code",
            "execution_count": null,
            "metadata": {},
            "outputs": [],
            "source": [
                "org_hyperparams = HyperParams()\n",
                "_ = train_and_test_model_with_hparams(org_hyperparams, \"gru_1layer_base_sgd_e32_h100\", override_models_with_gru=True)"
            ]
        },
        {
            "cell_type": "markdown",
            "metadata": {},
            "source": [
                "### Lab 2 (a) Study of LSTM Optimizers. Hint: For adaptive optimizers, we recommend using a learning rate of 0.001 (instead of 0.01)."
            ]
        },
        {
            "cell_type": "code",
            "execution_count": null,
            "metadata": {},
            "outputs": [],
            "source": []
        },
        {
            "cell_type": "markdown",
            "metadata": {},
            "source": [
                "### Lab 2 (b): Study of GRU Optimizers. Hint: For adaptive optimizers, we recommend using a learning rate of 0.001 (instead of 0.01)."
            ]
        },
        {
            "cell_type": "code",
            "execution_count": null,
            "metadata": {},
            "outputs": [],
            "source": []
        },
        {
            "cell_type": "markdown",
            "metadata": {},
            "source": [
                "### Lab 2 (c) Deeper LSTMs"
            ]
        },
        {
            "cell_type": "code",
            "execution_count": null,
            "metadata": {},
            "outputs": [],
            "source": []
        },
        {
            "cell_type": "markdown",
            "metadata": {},
            "source": [
                "### Lab 2 (d) Wider LSTMs"
            ]
        },
        {
            "cell_type": "code",
            "execution_count": null,
            "metadata": {},
            "outputs": [],
            "source": []
        },
        {
            "cell_type": "markdown",
            "metadata": {},
            "source": [
                "### Lab 2 (e) Larger Embedding Table"
            ]
        },
        {
            "cell_type": "code",
            "execution_count": null,
            "metadata": {},
            "outputs": [],
            "source": []
        },
        {
            "cell_type": "markdown",
            "metadata": {},
            "source": [
                "### Lab 2(f) Compound scaling of embedding_dim, hidden_dim, layers"
            ]
        },
        {
            "cell_type": "code",
            "execution_count": null,
            "metadata": {},
            "outputs": [],
            "source": []
        },
        {
            "cell_type": "markdown",
            "metadata": {},
            "source": [
                "### Lab 2 (g) Bi-Directional LSTM, using best architecture from (f)"
            ]
        },
        {
            "cell_type": "code",
            "execution_count": null,
            "metadata": {},
            "outputs": [],
            "source": []
        }
    ],
    "metadata": {
        "accelerator": "GPU",
        "colab": {
            "name": "lab1-answer.ipynb",
            "provenance": []
        },
        "kernelspec": {
            "display_name": "Python 3",
            "language": "python",
            "name": "python3"
        },
        "language_info": {
            "codemirror_mode": {
                "name": "ipython",
                "version": 3
            },
            "file_extension": ".py",
            "mimetype": "text/x-python",
            "name": "python",
            "nbconvert_exporter": "python",
            "pygments_lexer": "ipython3",
            "version": "3.8.11"
        }
    },
    "nbformat": 4,
    "nbformat_minor": 1
}